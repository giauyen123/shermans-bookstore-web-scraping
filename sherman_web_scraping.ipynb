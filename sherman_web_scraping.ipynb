{
 "cells": [
  {
   "cell_type": "code",
   "execution_count": 46,
   "metadata": {},
   "outputs": [],
   "source": [
    "import requests\n",
    "from bs4 import BeautifulSoup\n",
    "import pandas as pd"
   ]
  },
  {
   "cell_type": "code",
   "execution_count": 47,
   "metadata": {},
   "outputs": [],
   "source": [
    "url = \"https://www.shermans.com/most-popular-books-shermans-right-now\""
   ]
  },
  {
   "cell_type": "code",
   "execution_count": 48,
   "metadata": {},
   "outputs": [],
   "source": [
    "response = requests.get(url)"
   ]
  },
  {
   "cell_type": "code",
   "execution_count": 49,
   "metadata": {},
   "outputs": [],
   "source": [
    "soup = BeautifulSoup(response.content, 'html.parser')"
   ]
  },
  {
   "cell_type": "code",
   "execution_count": 50,
   "metadata": {},
   "outputs": [],
   "source": [
    "books = soup.find('div', class_='field-items')\n"
   ]
  },
  {
   "cell_type": "code",
   "execution_count": 51,
   "metadata": {},
   "outputs": [
    {
     "data": {
      "text/html": [
       "<div>\n",
       "<style scoped>\n",
       "    .dataframe tbody tr th:only-of-type {\n",
       "        vertical-align: middle;\n",
       "    }\n",
       "\n",
       "    .dataframe tbody tr th {\n",
       "        vertical-align: top;\n",
       "    }\n",
       "\n",
       "    .dataframe thead th {\n",
       "        text-align: right;\n",
       "    }\n",
       "</style>\n",
       "<table border=\"1\" class=\"dataframe\">\n",
       "  <thead>\n",
       "    <tr style=\"text-align: right;\">\n",
       "      <th></th>\n",
       "      <th>title</th>\n",
       "      <th>author</th>\n",
       "      <th>price</th>\n",
       "      <th>description</th>\n",
       "      <th>html</th>\n",
       "    </tr>\n",
       "  </thead>\n",
       "  <tbody>\n",
       "    <tr>\n",
       "      <th>0</th>\n",
       "      <td>The Midcoast: A Novel (Paperback)</td>\n",
       "      <td>Adam White</td>\n",
       "      <td>18.00</td>\n",
       "      <td>NATIONAL BESTSELLER • “Propulsive . . . An abs...</td>\n",
       "      <td>/book/9780593243176</td>\n",
       "    </tr>\n",
       "    <tr>\n",
       "      <th>1</th>\n",
       "      <td>Blueberries for Sal Cookbook: Sweet Recipes In...</td>\n",
       "      <td>Robert McCloskey</td>\n",
       "      <td>14.00</td>\n",
       "      <td>NATIONAL BESTSELLER • Enjoy 30 sweet blueberry...</td>\n",
       "      <td>/book/9780593580400</td>\n",
       "    </tr>\n",
       "    <tr>\n",
       "      <th>2</th>\n",
       "      <td>Fairy Tale (Paperback)</td>\n",
       "      <td>Stephen King</td>\n",
       "      <td>20.00</td>\n",
       "      <td>A #1 New York Times Bestseller and New York Ti...</td>\n",
       "      <td>/book/9781668002193</td>\n",
       "    </tr>\n",
       "    <tr>\n",
       "      <th>3</th>\n",
       "      <td>Blueberries for Sal (Hardcover)</td>\n",
       "      <td>Robert McCloskey</td>\n",
       "      <td>19.99</td>\n",
       "      <td>Caldecott Honor BookWhat happens when Sal and ...</td>\n",
       "      <td>/book/9780670175918</td>\n",
       "    </tr>\n",
       "    <tr>\n",
       "      <th>4</th>\n",
       "      <td>Fourth Wing (The Empyrean #1) (Hardcover)</td>\n",
       "      <td>Rebecca Yarros</td>\n",
       "      <td>29.99</td>\n",
       "      <td>An Instant New York Times BestsellerA Goodread...</td>\n",
       "      <td>/book/9781649374042</td>\n",
       "    </tr>\n",
       "  </tbody>\n",
       "</table>\n",
       "</div>"
      ],
      "text/plain": [
       "                                               title            author  price  \\\n",
       "0                  The Midcoast: A Novel (Paperback)        Adam White  18.00   \n",
       "1  Blueberries for Sal Cookbook: Sweet Recipes In...  Robert McCloskey  14.00   \n",
       "2                             Fairy Tale (Paperback)      Stephen King  20.00   \n",
       "3                    Blueberries for Sal (Hardcover)  Robert McCloskey  19.99   \n",
       "4          Fourth Wing (The Empyrean #1) (Hardcover)    Rebecca Yarros  29.99   \n",
       "\n",
       "                                         description                 html  \n",
       "0  NATIONAL BESTSELLER • “Propulsive . . . An abs...  /book/9780593243176  \n",
       "1  NATIONAL BESTSELLER • Enjoy 30 sweet blueberry...  /book/9780593580400  \n",
       "2  A #1 New York Times Bestseller and New York Ti...  /book/9781668002193  \n",
       "3  Caldecott Honor BookWhat happens when Sal and ...  /book/9780670175918  \n",
       "4  An Instant New York Times BestsellerA Goodread...  /book/9781649374042  "
      ]
     },
     "execution_count": 51,
     "metadata": {},
     "output_type": "execute_result"
    }
   ],
   "source": [
    "book_collection = []\n",
    "for book in books: \n",
    "    title = book.find('h2').text\n",
    "    html = book.find('h2').find('a').get('href')\n",
    "    author = book.find('div', class_ = 'abaproduct-authors').find('a').text.strip() \n",
    "    price = book.find('div', class_ = 'abaproduct-price').text.strip().replace('$', '')  \n",
    "    description = getattr(book.find('p'), 'text', None)\n",
    "    book_collection.append({'title': title, 'author': author, 'price': price, 'description': description, 'html': html})\n",
    "    \n",
    "df = pd.DataFrame(book_collection)\n",
    "df.head()\n",
    "    \n"
   ]
  },
  {
   "cell_type": "code",
   "execution_count": 52,
   "metadata": {},
   "outputs": [],
   "source": [
    "df['ISBN'] = df['html'].str.split('/').str[-1]\n",
    "df.drop('html', axis=1, inplace=True)\n"
   ]
  },
  {
   "cell_type": "code",
   "execution_count": 53,
   "metadata": {},
   "outputs": [],
   "source": [
    "df['type'] = df['title'].str.split('(').str[-1].str.split(')').str[0]\n"
   ]
  },
  {
   "cell_type": "code",
   "execution_count": 54,
   "metadata": {},
   "outputs": [],
   "source": [
    "df['title'] = df['title'].str.split('(').str[0]\n",
    "df.to_csv('shermans.csv', index=False)\n",
    " "
   ]
  }
 ],
 "metadata": {
  "kernelspec": {
   "display_name": "Python 3",
   "language": "python",
   "name": "python3"
  },
  "language_info": {
   "codemirror_mode": {
    "name": "ipython",
    "version": 3
   },
   "file_extension": ".py",
   "mimetype": "text/x-python",
   "name": "python",
   "nbconvert_exporter": "python",
   "pygments_lexer": "ipython3",
   "version": "3.9.7"
  },
  "orig_nbformat": 4
 },
 "nbformat": 4,
 "nbformat_minor": 2
}
